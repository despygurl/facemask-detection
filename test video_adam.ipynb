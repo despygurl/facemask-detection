{
 "cells": [
  {
   "cell_type": "markdown",
   "id": "bb056746-bd95-4ed2-bd3c-70a89368c989",
   "metadata": {},
   "source": [
    "# **Project Tugas Akhir**\n",
    "\n",
    "- Nama: Rizky Amalia\n",
    "- NIM: 19142037P\n",
    "- Prodi: Teknik Informatika"
   ]
  },
  {
   "cell_type": "markdown",
   "id": "6ab8e18b-e70c-40a4-8d77-2633a37b8c2f",
   "metadata": {},
   "source": [
    "# Import Library"
   ]
  },
  {
   "cell_type": "code",
   "execution_count": 1,
   "id": "efe6c9cf-71e6-491e-b88d-252a608e215e",
   "metadata": {},
   "outputs": [],
   "source": [
    "from tensorflow.keras.applications.mobilenet_v2 import preprocess_input\n",
    "from tensorflow.keras.preprocessing.image import img_to_array\n",
    "from tensorflow.keras.models import load_model\n",
    "import numpy as np\n",
    "import cv2\n",
    "import os\n",
    "import imutils\n",
    "from imutils.video import VideoStream"
   ]
  },
  {
   "cell_type": "markdown",
   "id": "7be8af3f-1fab-4c17-8aaf-7f8c4f52ed12",
   "metadata": {},
   "source": [
    "# Proses Deteksi Wajah"
   ]
  },
  {
   "cell_type": "code",
   "execution_count": 2,
   "id": "1ef02173-63f6-4d36-9bab-7c6f95e0a48d",
   "metadata": {},
   "outputs": [],
   "source": [
    "def detect_and_predict_mask(frame, faceNet, maskNet): # faceNet=face detector; maskNet=masker detection\n",
    "    # Resize dimensi ke 224 x 224\n",
    "    (h,w) = frame.shape[:2]\n",
    "\n",
    "    # Pada tahap ini akan dihitung jumlah rata-rata intensitas pixel pada seluruh gambar untuk setiap warna merah, \n",
    "    # hijau dan juga biru. Proses ini bertujuan untuk menyiapkan gambar untuk masuk ke deep neural network\n",
    "    blob = cv2.dnn.blobFromImage(frame, 1.0, (224,224),(104.0,117.0,123.0))\n",
    "    \n",
    "    # Face Detection\n",
    "    faceNet.setInput(blob)\n",
    "    detections = faceNet.forward()\n",
    "    \n",
    "    # Menampung wajah, lokasi dan hasil prediksi dalam list\n",
    "    wajah = []\n",
    "    lokasi = []\n",
    "    preds = []\n",
    "    \n",
    "    # Proses Deteksi Wajah\n",
    "    for i in range(0, detections.shape[2]):\n",
    "        confidence = detections[0,0,i,2]\n",
    "\n",
    "        if confidence > 0.5:\n",
    "            # Penandaan koordinat X dan Y\n",
    "            box = detections[0,0,i,3:7]*np.array([w,h,w,h])\n",
    "            (X_start,Y_start,X_end,Y_end) = box.astype('int') # bounding box\n",
    "\n",
    "            # Pembuatan bounding box untuk menandai wajah, memastikan bounding box berada di dalam frame\n",
    "            (X_start,Y_start) = (max(0,X_start), max(0,Y_start))\n",
    "            (X_end,Y_end)     = (min(w-1,X_end), min(h-1,Y_end))\n",
    "\n",
    "            # Extract ROI lalu konversi BGR ke RGB, resize gambar ke 224 x 224\n",
    "            face = frame[Y_start:Y_end, X_start:X_end]\n",
    "            face = cv2.cvtColor(face, cv2.COLOR_BGR2RGB)\n",
    "            face = cv2.resize(face,(224,224))\n",
    "            face = img_to_array(face)\n",
    "            face = preprocess_input(face)\n",
    "\n",
    "            wajah.append(face)\n",
    "            lokasi.append((X_start,Y_start,X_end,Y_end))\n",
    "\n",
    "        # Buat prediksi hanya jika -paling tidak- ada 1 wajah yang terdeteksi\n",
    "        if len(wajah) > 0:\n",
    "            wajah = np.array(wajah, dtype='float32')\n",
    "            preds = maskNet.predict(wajah, batch_size = 12)\n",
    "        \n",
    "        return(lokasi, preds)"
   ]
  },
  {
   "cell_type": "markdown",
   "id": "310c5bb6-2514-4f29-b799-0a9848fa9eeb",
   "metadata": {},
   "source": [
    "# Load Detektor Wajah dan Masker"
   ]
  },
  {
   "cell_type": "code",
   "execution_count": 3,
   "id": "2199938e-e86a-47dd-b3a4-d445c9fe1073",
   "metadata": {
    "tags": []
   },
   "outputs": [],
   "source": [
    "prototxt = os.path.sep.join([r'D:\\OneDrive\\Kuliah\\KULIAH\\MATA KULIAH\\Semester 5\\Project\\4 Face Detector',\n",
    "                             'deploy.prototxt'])\n",
    "\n",
    "weights  = os.path.sep.join([r'D:\\OneDrive\\Kuliah\\KULIAH\\MATA KULIAH\\Semester 5\\Project\\4 Face Detector',\n",
    "                             'res10_300x300_ssd_iter_140000.caffemodel'])\n",
    "\n",
    "faceNet = cv2.dnn.readNet(prototxt, weights)\n",
    "maskNet = load_model(r'D:\\OneDrive\\Kuliah\\KULIAH\\MATA KULIAH\\Semester 5\\Project\\Mod_Save2\\model_adam\\model_adam.model')"
   ]
  },
  {
   "cell_type": "markdown",
   "id": "13c4c4cc-916e-4b0c-a531-783f1cfef701",
   "metadata": {},
   "source": [
    "# Test Deteksi Masker dengan Video Real Time"
   ]
  },
  {
   "cell_type": "code",
   "execution_count": 4,
   "id": "fbff28a1-e139-4b74-a718-f399ab2ca60a",
   "metadata": {
    "tags": []
   },
   "outputs": [],
   "source": [
    "vs = VideoStream(src=0).start()\n",
    "\n",
    "while True:\n",
    "    # Membuka frame video kemudian resize framenya menjadi ukuran lebar sebesar 600 pixels\n",
    "    frame = vs.read()\n",
    "    frame = imutils.resize(frame, width = 650)\n",
    "    \n",
    "    # Mendeteksi wajah yang ada di gambar kemudian prediksi apakah sosok dalam frame menggunakan masker atau tidak\n",
    "    (lokasi, preds) = detect_and_predict_mask(frame, faceNet, maskNet)\n",
    "    \n",
    "    for (box, pred) in zip(lokasi, preds):\n",
    "        (X_start, Y_start, X_end, Y_end) = box\n",
    "        (Masker, Tidak_Bermasker) = pred\n",
    "        \n",
    "        # Menentukan label beserta warna bounding box sesuai labelnya                     \n",
    "        label = 'Masker' if Masker > Tidak_Bermasker else 'Tidak Bermasker'\n",
    "        color = (0,255,0) if label == 'Masker' else (0,0,255)\n",
    "        \n",
    "        # Menambahkan Persentase pada label                     \n",
    "        label = \"{}: {:.2f}%\".format(label, max(Masker, Tidak_Bermasker)*100)\n",
    "        \n",
    "        # Menampilkan label dan bounding box\n",
    "        cv2.putText(frame,label,(X_start, Y_start-10), cv2.FONT_HERSHEY_PLAIN, 0.80, color, 2)\n",
    "        cv2.rectangle(frame, (X_start, Y_start), (X_end, Y_end), color, 2)\n",
    "        \n",
    "    # Menampilkan Frame Output\n",
    "    cv2.imshow(\"Frame\", frame)\n",
    "    key = cv2.waitKey(1) & 0xFF\n",
    "    \n",
    "    if key == ord('x'):\n",
    "        break\n",
    "        \n",
    "cv2.destroyAllWindows()\n",
    "vs.stop()"
   ]
  }
 ],
 "metadata": {
  "kernelspec": {
   "display_name": "Python [conda env:coba_env] *",
   "language": "python",
   "name": "conda-env-coba_env-py"
  },
  "language_info": {
   "codemirror_mode": {
    "name": "ipython",
    "version": 3
   },
   "file_extension": ".py",
   "mimetype": "text/x-python",
   "name": "python",
   "nbconvert_exporter": "python",
   "pygments_lexer": "ipython3",
   "version": "3.7.10"
  }
 },
 "nbformat": 4,
 "nbformat_minor": 5
}
